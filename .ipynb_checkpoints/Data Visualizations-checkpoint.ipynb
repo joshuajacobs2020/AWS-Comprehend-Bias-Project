{
 "cells": [
  {
   "cell_type": "code",
   "execution_count": 3,
   "id": "a5b8b649-a520-4032-81c6-ffb48cfc6a97",
   "metadata": {
    "tags": []
   },
   "outputs": [],
   "source": [
    "import pandas as pd\n",
    "import matplotlib.pyplot as plt\n",
    "import numpy as np"
   ]
  },
  {
   "cell_type": "code",
   "execution_count": 4,
   "id": "24a60d9f-f3e7-4278-aa19-e3094cb8406c",
   "metadata": {
    "tags": []
   },
   "outputs": [
    {
     "data": {
      "text/html": [
       "<div>\n",
       "<style scoped>\n",
       "    .dataframe tbody tr th:only-of-type {\n",
       "        vertical-align: middle;\n",
       "    }\n",
       "\n",
       "    .dataframe tbody tr th {\n",
       "        vertical-align: top;\n",
       "    }\n",
       "\n",
       "    .dataframe thead th {\n",
       "        text-align: right;\n",
       "    }\n",
       "</style>\n",
       "<table border=\"1\" class=\"dataframe\">\n",
       "  <thead>\n",
       "    <tr style=\"text-align: right;\">\n",
       "      <th></th>\n",
       "      <th>name</th>\n",
       "      <th>group</th>\n",
       "      <th>gender</th>\n",
       "      <th>Democrat</th>\n",
       "      <th>female</th>\n",
       "      <th>Overall</th>\n",
       "      <th>Positive</th>\n",
       "      <th>Negative</th>\n",
       "      <th>Mixed</th>\n",
       "      <th>Neutral</th>\n",
       "    </tr>\n",
       "  </thead>\n",
       "  <tbody>\n",
       "    <tr>\n",
       "      <th>0</th>\n",
       "      <td>Amy Klobuchar</td>\n",
       "      <td>Democrat</td>\n",
       "      <td>female</td>\n",
       "      <td>1.0</td>\n",
       "      <td>1.0</td>\n",
       "      <td>NEUTRAL</td>\n",
       "      <td>0.007546</td>\n",
       "      <td>0.119013</td>\n",
       "      <td>0.003111</td>\n",
       "      <td>0.870330</td>\n",
       "    </tr>\n",
       "    <tr>\n",
       "      <th>1</th>\n",
       "      <td>Ben Sasse</td>\n",
       "      <td>Republican</td>\n",
       "      <td>male</td>\n",
       "      <td>0.0</td>\n",
       "      <td>0.0</td>\n",
       "      <td>NEUTRAL</td>\n",
       "      <td>0.008877</td>\n",
       "      <td>0.077607</td>\n",
       "      <td>0.008827</td>\n",
       "      <td>0.904690</td>\n",
       "    </tr>\n",
       "    <tr>\n",
       "      <th>2</th>\n",
       "      <td>Benjamin L. Cardin</td>\n",
       "      <td>Democrat</td>\n",
       "      <td>male</td>\n",
       "      <td>1.0</td>\n",
       "      <td>0.0</td>\n",
       "      <td>NEUTRAL</td>\n",
       "      <td>0.007812</td>\n",
       "      <td>0.044993</td>\n",
       "      <td>0.000631</td>\n",
       "      <td>0.946564</td>\n",
       "    </tr>\n",
       "    <tr>\n",
       "      <th>3</th>\n",
       "      <td>Bill Cassidy</td>\n",
       "      <td>Republican</td>\n",
       "      <td>male</td>\n",
       "      <td>0.0</td>\n",
       "      <td>0.0</td>\n",
       "      <td>NEUTRAL</td>\n",
       "      <td>0.007056</td>\n",
       "      <td>0.089234</td>\n",
       "      <td>0.002419</td>\n",
       "      <td>0.901291</td>\n",
       "    </tr>\n",
       "    <tr>\n",
       "      <th>4</th>\n",
       "      <td>Brian Schatz</td>\n",
       "      <td>Democrat</td>\n",
       "      <td>male</td>\n",
       "      <td>1.0</td>\n",
       "      <td>0.0</td>\n",
       "      <td>NEUTRAL</td>\n",
       "      <td>0.011065</td>\n",
       "      <td>0.036437</td>\n",
       "      <td>0.001083</td>\n",
       "      <td>0.951415</td>\n",
       "    </tr>\n",
       "    <tr>\n",
       "      <th>...</th>\n",
       "      <td>...</td>\n",
       "      <td>...</td>\n",
       "      <td>...</td>\n",
       "      <td>...</td>\n",
       "      <td>...</td>\n",
       "      <td>...</td>\n",
       "      <td>...</td>\n",
       "      <td>...</td>\n",
       "      <td>...</td>\n",
       "      <td>...</td>\n",
       "    </tr>\n",
       "    <tr>\n",
       "      <th>93</th>\n",
       "      <td>Tim Scott</td>\n",
       "      <td>Republican</td>\n",
       "      <td>male</td>\n",
       "      <td>0.0</td>\n",
       "      <td>0.0</td>\n",
       "      <td>NEUTRAL</td>\n",
       "      <td>0.013689</td>\n",
       "      <td>0.028788</td>\n",
       "      <td>0.000437</td>\n",
       "      <td>0.957086</td>\n",
       "    </tr>\n",
       "    <tr>\n",
       "      <th>94</th>\n",
       "      <td>Tina Smith</td>\n",
       "      <td>Democrat</td>\n",
       "      <td>female</td>\n",
       "      <td>1.0</td>\n",
       "      <td>1.0</td>\n",
       "      <td>NEUTRAL</td>\n",
       "      <td>0.009505</td>\n",
       "      <td>0.068997</td>\n",
       "      <td>0.000334</td>\n",
       "      <td>0.921163</td>\n",
       "    </tr>\n",
       "    <tr>\n",
       "      <th>95</th>\n",
       "      <td>Todd Young</td>\n",
       "      <td>Republican</td>\n",
       "      <td>male</td>\n",
       "      <td>0.0</td>\n",
       "      <td>0.0</td>\n",
       "      <td>NEUTRAL</td>\n",
       "      <td>0.014667</td>\n",
       "      <td>0.048050</td>\n",
       "      <td>0.001154</td>\n",
       "      <td>0.936129</td>\n",
       "    </tr>\n",
       "    <tr>\n",
       "      <th>96</th>\n",
       "      <td>Tom Cotton</td>\n",
       "      <td>Republican</td>\n",
       "      <td>male</td>\n",
       "      <td>0.0</td>\n",
       "      <td>0.0</td>\n",
       "      <td>NEUTRAL</td>\n",
       "      <td>0.028129</td>\n",
       "      <td>0.099030</td>\n",
       "      <td>0.004028</td>\n",
       "      <td>0.868812</td>\n",
       "    </tr>\n",
       "    <tr>\n",
       "      <th>97</th>\n",
       "      <td>Tom Udall</td>\n",
       "      <td>Democrat</td>\n",
       "      <td>male</td>\n",
       "      <td>1.0</td>\n",
       "      <td>0.0</td>\n",
       "      <td>NEUTRAL</td>\n",
       "      <td>0.010374</td>\n",
       "      <td>0.053341</td>\n",
       "      <td>0.005507</td>\n",
       "      <td>0.930779</td>\n",
       "    </tr>\n",
       "  </tbody>\n",
       "</table>\n",
       "<p>98 rows × 10 columns</p>\n",
       "</div>"
      ],
      "text/plain": [
       "                  name       group  gender  Democrat  female  Overall  \\\n",
       "0        Amy Klobuchar    Democrat  female       1.0     1.0  NEUTRAL   \n",
       "1            Ben Sasse  Republican    male       0.0     0.0  NEUTRAL   \n",
       "2   Benjamin L. Cardin    Democrat    male       1.0     0.0  NEUTRAL   \n",
       "3         Bill Cassidy  Republican    male       0.0     0.0  NEUTRAL   \n",
       "4         Brian Schatz    Democrat    male       1.0     0.0  NEUTRAL   \n",
       "..                 ...         ...     ...       ...     ...      ...   \n",
       "93           Tim Scott  Republican    male       0.0     0.0  NEUTRAL   \n",
       "94          Tina Smith    Democrat  female       1.0     1.0  NEUTRAL   \n",
       "95          Todd Young  Republican    male       0.0     0.0  NEUTRAL   \n",
       "96          Tom Cotton  Republican    male       0.0     0.0  NEUTRAL   \n",
       "97           Tom Udall    Democrat    male       1.0     0.0  NEUTRAL   \n",
       "\n",
       "    Positive  Negative     Mixed   Neutral  \n",
       "0   0.007546  0.119013  0.003111  0.870330  \n",
       "1   0.008877  0.077607  0.008827  0.904690  \n",
       "2   0.007812  0.044993  0.000631  0.946564  \n",
       "3   0.007056  0.089234  0.002419  0.901291  \n",
       "4   0.011065  0.036437  0.001083  0.951415  \n",
       "..       ...       ...       ...       ...  \n",
       "93  0.013689  0.028788  0.000437  0.957086  \n",
       "94  0.009505  0.068997  0.000334  0.921163  \n",
       "95  0.014667  0.048050  0.001154  0.936129  \n",
       "96  0.028129  0.099030  0.004028  0.868812  \n",
       "97  0.010374  0.053341  0.005507  0.930779  \n",
       "\n",
       "[98 rows x 10 columns]"
      ]
     },
     "execution_count": 4,
     "metadata": {},
     "output_type": "execute_result"
    }
   ],
   "source": [
    "data = pd.read_csv(\"senators_sentiment.csv\")\n",
    "data"
   ]
  },
  {
   "cell_type": "code",
   "execution_count": 5,
   "id": "8b10a4e8-f93d-4997-bf17-c3d4fdc9fadd",
   "metadata": {
    "tags": []
   },
   "outputs": [
    {
     "name": "stderr",
     "output_type": "stream",
     "text": [
      "/opt/conda/lib/python3.7/site-packages/ipykernel_launcher.py:3: SettingWithCopyWarning: \n",
      "A value is trying to be set on a copy of a slice from a DataFrame.\n",
      "Try using .loc[row_indexer,col_indexer] = value instead\n",
      "\n",
      "See the caveats in the documentation: https://pandas.pydata.org/pandas-docs/stable/user_guide/indexing.html#returning-a-view-versus-a-copy\n",
      "  This is separate from the ipykernel package so we can avoid doing imports until\n",
      "/opt/conda/lib/python3.7/site-packages/ipykernel_launcher.py:6: SettingWithCopyWarning: \n",
      "A value is trying to be set on a copy of a slice from a DataFrame.\n",
      "Try using .loc[row_indexer,col_indexer] = value instead\n",
      "\n",
      "See the caveats in the documentation: https://pandas.pydata.org/pandas-docs/stable/user_guide/indexing.html#returning-a-view-versus-a-copy\n",
      "  \n"
     ]
    }
   ],
   "source": [
    "Dem = data[data['group'] == 'Democrat']\n",
    "Dem1 = Dem[['name','Neutral']]\n",
    "Dem1['Neutral'] = Dem1['Neutral'].apply(lambda x: round(x, 2))\n",
    "Rep = data[data['group'] == 'Republican']\n",
    "Rep1 = Rep[['name','Neutral']]\n",
    "Rep1['Neutral'] = Rep1['Neutral'].apply(lambda x: round(x, 2))"
   ]
  },
  {
   "cell_type": "code",
   "execution_count": 6,
   "id": "f5954c3e-2de0-41da-842f-542406e42cff",
   "metadata": {
    "tags": []
   },
   "outputs": [],
   "source": [
    "Dem_median = [np.median(Dem1['Neutral'])]\n",
    "Rep_median = [np.median(Rep1['Neutral'])]"
   ]
  },
  {
   "cell_type": "code",
   "execution_count": 7,
   "id": "73ae1e13-6801-458d-a81b-7e5191113e72",
   "metadata": {
    "tags": []
   },
   "outputs": [],
   "source": [
    "fig, ax = plt.subplots()"
   ]
  },
  {
   "cell_type": "code",
   "execution_count": 8,
   "id": "083d0135-d66a-4158-be7c-091f0d028b48",
   "metadata": {
    "tags": []
   },
   "outputs": [
    {
     "name": "stderr",
     "output_type": "stream",
     "text": [
      "/opt/conda/lib/python3.7/site-packages/matplotlib/cbook/__init__.py:1449: VisibleDeprecationWarning: Creating an ndarray from ragged nested sequences (which is a list-or-tuple of lists-or-tuples-or ndarrays with different lengths or shapes) is deprecated. If you meant to do this, you must specify 'dtype=object' when creating the ndarray.\n",
      "  X = np.atleast_1d(X.T if isinstance(X, np.ndarray) else np.asarray(X))\n"
     ]
    },
    {
     "data": {
      "image/png": "[encoded data removed]",
      "text/plain": [
       "<Figure size 640x480 with 1 Axes>"
      ]
     },
     "metadata": {},
     "output_type": "display_data"
    }
   ],
   "source": [
    "ax.boxplot(x=[Dem1['Neutral'], Rep1['Neutral']], vert=False)\n",
    "ax.set_yticklabels(['Democrats', 'Republicans'])\n",
    "ax.set_title('Political Party Neutral Scores')\n",
    "ax.text(0.85, 0.2, Dem_median, transform=ax.transAxes, fontsize=7, va='top')\n",
    "ax.text(0.81, 0.7, Rep_median, transform=ax.transAxes, fontsize=7, va='top')\n",
    "plt.show()\n",
    "plt.savefig('Neutral.png')"
   ]
  },
  {
   "cell_type": "code",
   "execution_count": null,
   "id": "179cf9e2-788a-435b-8e2d-d51b45f1bc87",
   "metadata": {},
   "outputs": [],
   "source": []
  },
  {
   "cell_type": "code",
   "execution_count": 9,
   "id": "bb2fc7b4-eb73-4404-91dc-b62a43602b52",
   "metadata": {
    "tags": []
   },
   "outputs": [],
   "source": [
    "Dem2 = Dem[['name','Positive']]\n",
    "Rep2 = Rep[['name','Positive']]"
   ]
  },
  {
   "cell_type": "code",
   "execution_count": 10,
   "id": "41c33ab8-f0df-4bae-a1a4-56881a497868",
   "metadata": {
    "tags": []
   },
   "outputs": [],
   "source": [
    "Dem_median_2 = [np.median(Dem2['Positive'])]\n",
    "Rep_median_2 = [np.median(Rep2['Positive'])]"
   ]
  },
  {
   "cell_type": "code",
   "execution_count": 11,
   "id": "7f9c5a68-86bc-4dd6-97d6-3403ee5ba485",
   "metadata": {
    "tags": []
   },
   "outputs": [],
   "source": [
    "fig, ax = plt.subplots()"
   ]
  },
  {
   "cell_type": "code",
   "execution_count": 12,
   "id": "e58e5ba7-a391-4833-ad15-272a2ae75179",
   "metadata": {
    "tags": []
   },
   "outputs": [
    {
     "name": "stderr",
     "output_type": "stream",
     "text": [
      "/opt/conda/lib/python3.7/site-packages/matplotlib/cbook/__init__.py:1449: VisibleDeprecationWarning: Creating an ndarray from ragged nested sequences (which is a list-or-tuple of lists-or-tuples-or ndarrays with different lengths or shapes) is deprecated. If you meant to do this, you must specify 'dtype=object' when creating the ndarray.\n",
      "  X = np.atleast_1d(X.T if isinstance(X, np.ndarray) else np.asarray(X))\n"
     ]
    },
    {
     "data": {
      "text/plain": [
       "<Figure size 640x480 with 0 Axes>"
      ]
     },
     "metadata": {},
     "output_type": "display_data"
    },
    {
     "data": {
      "image/png": "[encoded data removed]",
      "text/plain": [
       "<Figure size 640x480 with 1 Axes>"
      ]
     },
     "metadata": {},
     "output_type": "display_data"
    }
   ],
   "source": [
    "ax.boxplot(x=[Dem2['Positive'], Rep2['Positive']], vert=False)\n",
    "ax.set_yticklabels(['Democrats', 'Republicans'])\n",
    "ax.set_title('Political Party Positive Scores')\n",
    "ax.text(0.07, 0.2, Dem_median_2, transform=ax.transAxes, fontsize=7, va='top')\n",
    "ax.text(0.11, 0.7, Rep_median_2, transform=ax.transAxes, fontsize=7, va='top')\n",
    "plt.show()\n",
    "plt.savefig('Positive.png')"
   ]
  },
  {
   "cell_type": "code",
   "execution_count": 13,
   "id": "de9410af-2a35-4bd8-9575-9022a2d51853",
   "metadata": {
    "tags": []
   },
   "outputs": [],
   "source": [
    "Dem3 = Dem[['name','Negative']]\n",
    "Rep3 = Rep[['name','Negative']]"
   ]
  },
  {
   "cell_type": "code",
   "execution_count": 14,
   "id": "8b565296-feb7-422f-9582-4a0c8e8cdbb8",
   "metadata": {
    "tags": []
   },
   "outputs": [],
   "source": [
    "Dem_median_3 = [np.median(Dem3['Negative'])]\n",
    "Rep_median_3 = [np.median(Rep3['Negative'])]"
   ]
  },
  {
   "cell_type": "code",
   "execution_count": 15,
   "id": "fbb17fcb-a078-4f4b-bfd0-bb890427632f",
   "metadata": {
    "tags": []
   },
   "outputs": [],
   "source": [
    "fig, ax = plt.subplots()"
   ]
  },
  {
   "cell_type": "code",
   "execution_count": 16,
   "id": "c6ccfdd0-0647-4cb1-9e31-b7aa01f08277",
   "metadata": {
    "tags": []
   },
   "outputs": [
    {
     "name": "stderr",
     "output_type": "stream",
     "text": [
      "/opt/conda/lib/python3.7/site-packages/matplotlib/cbook/__init__.py:1449: VisibleDeprecationWarning: Creating an ndarray from ragged nested sequences (which is a list-or-tuple of lists-or-tuples-or ndarrays with different lengths or shapes) is deprecated. If you meant to do this, you must specify 'dtype=object' when creating the ndarray.\n",
      "  X = np.atleast_1d(X.T if isinstance(X, np.ndarray) else np.asarray(X))\n"
     ]
    },
    {
     "data": {
      "text/plain": [
       "<Figure size 640x480 with 0 Axes>"
      ]
     },
     "metadata": {},
     "output_type": "display_data"
    },
    {
     "data": {
      "image/png": "[encoded data removed]",
      "text/plain": [
       "<Figure size 640x480 with 1 Axes>"
      ]
     },
     "metadata": {},
     "output_type": "display_data"
    }
   ],
   "source": [
    "ax.boxplot(x=[Dem3['Negative'], Rep3['Negative']], vert=False)\n",
    "ax.set_yticklabels(['Democrats', 'Republicans'])\n",
    "ax.set_title('Political Party Negative Scores')\n",
    "ax.text(0.04, 0.2, Dem_median_3, transform=ax.transAxes, fontsize=7, va='top')\n",
    "ax.text(0.069, 0.7, Rep_median_3, transform=ax.transAxes, fontsize=7, va='top')\n",
    "plt.show()\n",
    "plt.savefig('Negative.png')"
   ]
  },
  {
   "cell_type": "code",
   "execution_count": null,
   "id": "a7257ab5-b868-42e1-a58f-a81d52c0faa6",
   "metadata": {},
   "outputs": [],
   "source": []
  }
 ],
 "metadata": {
  "instance_type": "ml.t3.medium",
  "kernelspec": {
   "display_name": "Python 3 (Data Science)",
   "language": "python",
   "name": "python3__SAGEMAKER_INTERNAL__arn:aws:sagemaker:us-east-1:081325390199:image/datascience-1.0"
  },
  "language_info": {
   "codemirror_mode": {
    "name": "ipython",
    "version": 3
   },
   "file_extension": ".py",
   "mimetype": "text/x-python",
   "name": "python",
   "nbconvert_exporter": "python",
   "pygments_lexer": "ipython3",
   "version": "3.7.10"
  }
 },
 "nbformat": 4,
 "nbformat_minor": 5
}
