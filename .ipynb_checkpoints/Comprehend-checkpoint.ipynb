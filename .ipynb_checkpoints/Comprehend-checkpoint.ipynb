{
 "cells": [
  {
   "cell_type": "code",
   "execution_count": 111,
   "id": "a5b8b649-a520-4032-81c6-ffb48cfc6a97",
   "metadata": {
    "tags": []
   },
   "outputs": [],
   "source": [
    "import pandas as pd\n",
    "import matplotlib.pyplot as plt\n",
    "import numpy as np"
   ]
  },
  {
   "cell_type": "code",
   "execution_count": 75,
   "id": "24a60d9f-f3e7-4278-aa19-e3094cb8406c",
   "metadata": {
    "tags": []
   },
   "outputs": [
    {
     "data": {
      "text/html": [
       "<div>\n",
       "<style scoped>\n",
       "    .dataframe tbody tr th:only-of-type {\n",
       "        vertical-align: middle;\n",
       "    }\n",
       "\n",
       "    .dataframe tbody tr th {\n",
       "        vertical-align: top;\n",
       "    }\n",
       "\n",
       "    .dataframe thead th {\n",
       "        text-align: right;\n",
       "    }\n",
       "</style>\n",
       "<table border=\"1\" class=\"dataframe\">\n",
       "  <thead>\n",
       "    <tr style=\"text-align: right;\">\n",
       "      <th></th>\n",
       "      <th>name</th>\n",
       "      <th>group</th>\n",
       "      <th>gender</th>\n",
       "      <th>Democrat</th>\n",
       "      <th>female</th>\n",
       "      <th>Overall</th>\n",
       "      <th>Positive</th>\n",
       "      <th>Negative</th>\n",
       "      <th>Mixed</th>\n",
       "      <th>Neutral</th>\n",
       "    </tr>\n",
       "  </thead>\n",
       "  <tbody>\n",
       "    <tr>\n",
       "      <th>0</th>\n",
       "      <td>Amy Klobuchar</td>\n",
       "      <td>Democrat</td>\n",
       "      <td>female</td>\n",
       "      <td>0.0</td>\n",
       "      <td>1.0</td>\n",
       "      <td>NEUTRAL</td>\n",
       "      <td>0.007546</td>\n",
       "      <td>0.119013</td>\n",
       "      <td>0.003111</td>\n",
       "      <td>0.870330</td>\n",
       "    </tr>\n",
       "    <tr>\n",
       "      <th>1</th>\n",
       "      <td>Ben Sasse</td>\n",
       "      <td>Republican</td>\n",
       "      <td>male</td>\n",
       "      <td>1.0</td>\n",
       "      <td>0.0</td>\n",
       "      <td>NEUTRAL</td>\n",
       "      <td>0.008877</td>\n",
       "      <td>0.077607</td>\n",
       "      <td>0.008827</td>\n",
       "      <td>0.904690</td>\n",
       "    </tr>\n",
       "    <tr>\n",
       "      <th>2</th>\n",
       "      <td>Benjamin L. Cardin</td>\n",
       "      <td>Democrat</td>\n",
       "      <td>male</td>\n",
       "      <td>0.0</td>\n",
       "      <td>0.0</td>\n",
       "      <td>NEUTRAL</td>\n",
       "      <td>0.007812</td>\n",
       "      <td>0.044993</td>\n",
       "      <td>0.000631</td>\n",
       "      <td>0.946564</td>\n",
       "    </tr>\n",
       "    <tr>\n",
       "      <th>3</th>\n",
       "      <td>Bill Cassidy</td>\n",
       "      <td>Republican</td>\n",
       "      <td>male</td>\n",
       "      <td>1.0</td>\n",
       "      <td>0.0</td>\n",
       "      <td>NEUTRAL</td>\n",
       "      <td>0.007056</td>\n",
       "      <td>0.089234</td>\n",
       "      <td>0.002419</td>\n",
       "      <td>0.901291</td>\n",
       "    </tr>\n",
       "    <tr>\n",
       "      <th>4</th>\n",
       "      <td>Brian Schatz</td>\n",
       "      <td>Democrat</td>\n",
       "      <td>male</td>\n",
       "      <td>0.0</td>\n",
       "      <td>0.0</td>\n",
       "      <td>NEUTRAL</td>\n",
       "      <td>0.011065</td>\n",
       "      <td>0.036437</td>\n",
       "      <td>0.001083</td>\n",
       "      <td>0.951415</td>\n",
       "    </tr>\n",
       "    <tr>\n",
       "      <th>...</th>\n",
       "      <td>...</td>\n",
       "      <td>...</td>\n",
       "      <td>...</td>\n",
       "      <td>...</td>\n",
       "      <td>...</td>\n",
       "      <td>...</td>\n",
       "      <td>...</td>\n",
       "      <td>...</td>\n",
       "      <td>...</td>\n",
       "      <td>...</td>\n",
       "    </tr>\n",
       "    <tr>\n",
       "      <th>93</th>\n",
       "      <td>Tim Scott</td>\n",
       "      <td>Republican</td>\n",
       "      <td>male</td>\n",
       "      <td>1.0</td>\n",
       "      <td>0.0</td>\n",
       "      <td>NEUTRAL</td>\n",
       "      <td>0.013689</td>\n",
       "      <td>0.028788</td>\n",
       "      <td>0.000437</td>\n",
       "      <td>0.957086</td>\n",
       "    </tr>\n",
       "    <tr>\n",
       "      <th>94</th>\n",
       "      <td>Tina Smith</td>\n",
       "      <td>Democrat</td>\n",
       "      <td>female</td>\n",
       "      <td>0.0</td>\n",
       "      <td>1.0</td>\n",
       "      <td>NEUTRAL</td>\n",
       "      <td>0.009505</td>\n",
       "      <td>0.068997</td>\n",
       "      <td>0.000334</td>\n",
       "      <td>0.921163</td>\n",
       "    </tr>\n",
       "    <tr>\n",
       "      <th>95</th>\n",
       "      <td>Todd Young</td>\n",
       "      <td>Republican</td>\n",
       "      <td>male</td>\n",
       "      <td>1.0</td>\n",
       "      <td>0.0</td>\n",
       "      <td>NEUTRAL</td>\n",
       "      <td>0.014667</td>\n",
       "      <td>0.048050</td>\n",
       "      <td>0.001154</td>\n",
       "      <td>0.936129</td>\n",
       "    </tr>\n",
       "    <tr>\n",
       "      <th>96</th>\n",
       "      <td>Tom Cotton</td>\n",
       "      <td>Republican</td>\n",
       "      <td>male</td>\n",
       "      <td>1.0</td>\n",
       "      <td>0.0</td>\n",
       "      <td>NEUTRAL</td>\n",
       "      <td>0.028129</td>\n",
       "      <td>0.099030</td>\n",
       "      <td>0.004028</td>\n",
       "      <td>0.868812</td>\n",
       "    </tr>\n",
       "    <tr>\n",
       "      <th>97</th>\n",
       "      <td>Tom Udall</td>\n",
       "      <td>Democrat</td>\n",
       "      <td>male</td>\n",
       "      <td>0.0</td>\n",
       "      <td>0.0</td>\n",
       "      <td>NEUTRAL</td>\n",
       "      <td>0.010374</td>\n",
       "      <td>0.053341</td>\n",
       "      <td>0.005507</td>\n",
       "      <td>0.930779</td>\n",
       "    </tr>\n",
       "  </tbody>\n",
       "</table>\n",
       "<p>98 rows × 10 columns</p>\n",
       "</div>"
      ],
      "text/plain": [
       "                  name       group  gender  Democrat  female  Overall  \\\n",
       "0        Amy Klobuchar    Democrat  female       0.0     1.0  NEUTRAL   \n",
       "1            Ben Sasse  Republican    male       1.0     0.0  NEUTRAL   \n",
       "2   Benjamin L. Cardin    Democrat    male       0.0     0.0  NEUTRAL   \n",
       "3         Bill Cassidy  Republican    male       1.0     0.0  NEUTRAL   \n",
       "4         Brian Schatz    Democrat    male       0.0     0.0  NEUTRAL   \n",
       "..                 ...         ...     ...       ...     ...      ...   \n",
       "93           Tim Scott  Republican    male       1.0     0.0  NEUTRAL   \n",
       "94          Tina Smith    Democrat  female       0.0     1.0  NEUTRAL   \n",
       "95          Todd Young  Republican    male       1.0     0.0  NEUTRAL   \n",
       "96          Tom Cotton  Republican    male       1.0     0.0  NEUTRAL   \n",
       "97           Tom Udall    Democrat    male       0.0     0.0  NEUTRAL   \n",
       "\n",
       "    Positive  Negative     Mixed   Neutral  \n",
       "0   0.007546  0.119013  0.003111  0.870330  \n",
       "1   0.008877  0.077607  0.008827  0.904690  \n",
       "2   0.007812  0.044993  0.000631  0.946564  \n",
       "3   0.007056  0.089234  0.002419  0.901291  \n",
       "4   0.011065  0.036437  0.001083  0.951415  \n",
       "..       ...       ...       ...       ...  \n",
       "93  0.013689  0.028788  0.000437  0.957086  \n",
       "94  0.009505  0.068997  0.000334  0.921163  \n",
       "95  0.014667  0.048050  0.001154  0.936129  \n",
       "96  0.028129  0.099030  0.004028  0.868812  \n",
       "97  0.010374  0.053341  0.005507  0.930779  \n",
       "\n",
       "[98 rows x 10 columns]"
      ]
     },
     "execution_count": 75,
     "metadata": {},
     "output_type": "execute_result"
    }
   ],
   "source": [
    "data = pd.read_csv(\"senators_sentiment.csv\")\n",
    "data"
   ]
  },
  {
   "cell_type": "code",
   "execution_count": 127,
   "id": "8b10a4e8-f93d-4997-bf17-c3d4fdc9fadd",
   "metadata": {
    "tags": []
   },
   "outputs": [],
   "source": [
    "Dem = data[data['group'] == 'Democrat']\n",
    "Dem1 = Dem[['name','Neutral']]\n",
    "Rep = data[data['group'] == 'Republican']\n",
    "Rep1 = Rep[['name','Neutral']]"
   ]
  },
  {
   "cell_type": "code",
   "execution_count": 139,
   "id": "f5954c3e-2de0-41da-842f-542406e42cff",
   "metadata": {
    "tags": []
   },
   "outputs": [],
   "source": [
    "Dem_median = [np.median(Dem1['Neutral'])]"
   ]
  },
  {
   "cell_type": "code",
   "execution_count": 141,
   "id": "de78368c-971f-404b-9c22-f2a9dfde77bb",
   "metadata": {
    "tags": []
   },
   "outputs": [],
   "source": [
    "Rep_median = [np.median(Rep1['Neutral'])]"
   ]
  },
  {
   "cell_type": "code",
   "execution_count": 140,
   "id": "73ae1e13-6801-458d-a81b-7e5191113e72",
   "metadata": {
    "tags": []
   },
   "outputs": [],
   "source": [
    "fig, ax = plt.subplots()"
   ]
  },
  {
   "cell_type": "code",
   "execution_count": 142,
   "id": "083d0135-d66a-4158-be7c-091f0d028b48",
   "metadata": {
    "tags": []
   },
   "outputs": [
    {
     "name": "stderr",
     "output_type": "stream",
     "text": [
      "/opt/conda/lib/python3.7/site-packages/matplotlib/cbook/__init__.py:1449: VisibleDeprecationWarning: Creating an ndarray from ragged nested sequences (which is a list-or-tuple of lists-or-tuples-or ndarrays with different lengths or shapes) is deprecated. If you meant to do this, you must specify 'dtype=object' when creating the ndarray.\n",
      "  X = np.atleast_1d(X.T if isinstance(X, np.ndarray) else np.asarray(X))\n"
     ]
    },
    {
     "data": {
      "text/plain": [
       "{'whiskers': [<matplotlib.lines.Line2D at 0x7f1a668c9990>,\n",
       "  <matplotlib.lines.Line2D at 0x7f1a668ca850>,\n",
       "  <matplotlib.lines.Line2D at 0x7f1a668bf450>,\n",
       "  <matplotlib.lines.Line2D at 0x7f1a668d5510>],\n",
       " 'caps': [<matplotlib.lines.Line2D at 0x7f1a668bfa90>,\n",
       "  <matplotlib.lines.Line2D at 0x7f1a66920490>,\n",
       "  <matplotlib.lines.Line2D at 0x7f1a668d5e90>,\n",
       "  <matplotlib.lines.Line2D at 0x7f1a66920a10>],\n",
       " 'boxes': [<matplotlib.lines.Line2D at 0x7f1a668bfd10>,\n",
       "  <matplotlib.lines.Line2D at 0x7f1a66a2cd90>],\n",
       " 'medians': [<matplotlib.lines.Line2D at 0x7f1a66af2e90>,\n",
       "  <matplotlib.lines.Line2D at 0x7f1a668e2890>],\n",
       " 'fliers': [<matplotlib.lines.Line2D at 0x7f1a668cad10>,\n",
       "  <matplotlib.lines.Line2D at 0x7f1a668e2d90>],\n",
       " 'means': []}"
      ]
     },
     "execution_count": 142,
     "metadata": {},
     "output_type": "execute_result"
    }
   ],
   "source": [
    "ax.boxplot(x=[Dem1['Neutral'], Rep1['Neutral']], vert=False)"
   ]
  },
  {
   "cell_type": "code",
   "execution_count": 143,
   "id": "e853386a-8c13-4fac-bdd1-ac04e0a82c3a",
   "metadata": {
    "tags": []
   },
   "outputs": [
    {
     "data": {
      "text/plain": [
       "Text(0.92, 0.05, '[0.9211633205413818]')"
      ]
     },
     "execution_count": 143,
     "metadata": {},
     "output_type": "execute_result"
    }
   ],
   "source": [
    "ax.set_yticklabels(['Democrats', 'Republicans'])\n",
    "ax.set_title('Boxplots for Political Party Neutral Scores')\n",
    "ax.text(0.90, 0.05, Dem_median, transform=ax.transAxes, fontsize=7, va='top')"
   ]
  },
  {
   "cell_type": "code",
   "execution_count": 144,
   "id": "9b9861d1-29b9-4443-96ae-12178ef2cf12",
   "metadata": {
    "tags": []
   },
   "outputs": [
    {
     "data": {
      "image/png": "[encoded data removed]",
      "text/plain": [
       "<Figure size 640x480 with 1 Axes>"
      ]
     },
     "metadata": {},
     "output_type": "display_data"
    }
   ],
   "source": [
    "plt.show()"
   ]
  }
 ],
 "metadata": {
  "instance_type": "ml.t3.medium",
  "kernelspec": {
   "display_name": "Python 3 (Data Science)",
   "language": "python",
   "name": "python3__SAGEMAKER_INTERNAL__arn:aws:sagemaker:us-east-1:081325390199:image/datascience-1.0"
  },
  "language_info": {
   "codemirror_mode": {
    "name": "ipython",
    "version": 3
   },
   "file_extension": ".py",
   "mimetype": "text/x-python",
   "name": "python",
   "nbconvert_exporter": "python",
   "pygments_lexer": "ipython3",
   "version": "3.7.10"
  }
 },
 "nbformat": 4,
 "nbformat_minor": 5
}
