{
 "cells": [
  {
   "cell_type": "code",
   "execution_count": 16,
   "id": "0016a043-aba2-4eb1-9fc1-7606c34c4eef",
   "metadata": {
    "tags": []
   },
   "outputs": [],
   "source": [
    "import pandas as pd\n",
    "import matplotlib.pyplot as plt\n",
    "import numpy as np\n",
    "from scipy.stats import linregress\n",
    "from IPython.core.display import HTML\n",
    "import statsmodels.formula.api as smf\n",
    "from stargazer.stargazer import Stargazer"
   ]
  },
  {
   "cell_type": "code",
   "execution_count": 25,
   "id": "762c80c0-7ff3-4227-9a20-1f7b749dcc62",
   "metadata": {
    "tags": []
   },
   "outputs": [],
   "source": [
    "data = pd.read_csv(\"senators_sentiment.csv\")\n",
    "data[\"NonNeutral\"] = 1 - data[\"Neutral\"]"
   ]
  },
  {
   "cell_type": "code",
   "execution_count": 62,
   "id": "f3055dae-7aaf-4fae-8d53-749da99ad2ba",
   "metadata": {
    "tags": []
   },
   "outputs": [
    {
     "data": {
      "text/html": [
       "<table style=\"text-align:center\"><tr><td colspan=\"5\" style=\"border-bottom: 1px solid black\"></td></tr><tr><td style=\"text-align:left\"></td><tr><td style=\"text-align:left\"></td><td>(1)</td><td>(2)</td><td>(3)</td><td>(4)</td></tr><tr><td colspan=\"5\" style=\"border-bottom: 1px solid black\"></td></tr><tr><td style=\"text-align:left\">Democratic</td><td>0.009<sup></sup></td><td>-0.000<sup></sup></td><td>0.001<sup></sup></td><td>0.008<sup></sup></td></tr><tr><td style=\"text-align:left\"></td><td>(0.015)</td><td>(0.002)</td><td>(0.002)</td><td>(0.015)</td></tr><tr><td style=\"text-align:left\">Intercept</td><td>0.103<sup>***</sup></td><td>0.012<sup>***</sup></td><td>0.004<sup>***</sup></td><td>0.088<sup>***</sup></td></tr><tr><td style=\"text-align:left\"></td><td>(0.015)</td><td>(0.002)</td><td>(0.001)</td><td>(0.015)</td></tr><tr><td style=\"text-align:left\">Female</td><td>-0.002<sup></sup></td><td>-0.004<sup>***</sup></td><td>0.003<sup></sup></td><td>-0.002<sup></sup></td></tr><tr><td style=\"text-align:left\"></td><td>(0.015)</td><td>(0.001)</td><td>(0.003)</td><td>(0.014)</td></tr><td colspan=\"5\" style=\"border-bottom: 1px solid black\"></td></tr><tr><td style=\"text-align: left\">Observations</td><td>98</td><td>98</td><td>98</td><td>98</td></tr><tr><td style=\"text-align: left\">R<sup>2</sup></td><td>0.006</td><td>0.067</td><td>0.015</td><td>0.005</td></tr><tr><td style=\"text-align: left\">Adjusted R<sup>2</sup></td><td>-0.015</td><td>0.048</td><td>-0.006</td><td>-0.016</td></tr><tr><td style=\"text-align: left\">Residual Std. Error</td><td>0.065 (df=95)</td><td>0.006 (df=95)</td><td>0.012 (df=95)</td><td>0.061 (df=95)</td></tr><tr><td style=\"text-align: left\">F Statistic</td><td>0.321<sup></sup> (df=2; 95)</td><td>6.959<sup>***</sup> (df=2; 95)</td><td>1.060<sup></sup> (df=2; 95)</td><td>0.304<sup></sup> (df=2; 95)</td></tr><tr><td colspan=\"5\" style=\"border-bottom: 1px solid black\"></td></tr><tr><td style=\"text-align: left\">Note:</td>\n",
       " <td colspan=\"4\" style=\"text-align: right\">\n",
       "  <sup>*</sup>p&lt;0.1;\n",
       "  <sup>**</sup>p&lt;0.05;\n",
       "  <sup>***</sup>p&lt;0.01\n",
       " </td></tr></table>"
      ],
      "text/plain": [
       "<IPython.core.display.HTML object>"
      ]
     },
     "execution_count": 62,
     "metadata": {},
     "output_type": "execute_result"
    }
   ],
   "source": [
    "m1 = smf.ols(data=data, formula='NonNeutral ~ Democrat + female').fit(cov_type='HC3')\n",
    "m2 = smf.ols(data=data, formula='Positive ~ Democrat + female').fit(cov_type='HC3')\n",
    "m3 = smf.ols(data=data, formula='Mixed ~ Democrat + female').fit(cov_type='HC3')\n",
    "m4 = smf.ols(data=data, formula='Negative ~ Democrat + female').fit(cov_type='HC3')\n",
    "st1 = Stargazer([m1, m2,m3,m4])\n",
    "st1.rename_covariates({\"Democrat\":\"Democratic\", \"female\":\"Female\"})\n",
    "HTML(st1.render_html())"
   ]
  }
 ],
 "metadata": {
  "instance_type": "ml.t3.medium",
  "kernelspec": {
   "display_name": "Python 3 (Data Science)",
   "language": "python",
   "name": "python3__SAGEMAKER_INTERNAL__arn:aws:sagemaker:us-east-1:081325390199:image/datascience-1.0"
  },
  "language_info": {
   "codemirror_mode": {
    "name": "ipython",
    "version": 3
   },
   "file_extension": ".py",
   "mimetype": "text/x-python",
   "name": "python",
   "nbconvert_exporter": "python",
   "pygments_lexer": "ipython3",
   "version": "3.7.10"
  }
 },
 "nbformat": 4,
 "nbformat_minor": 5
}
