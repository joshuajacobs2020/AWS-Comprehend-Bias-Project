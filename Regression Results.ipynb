{
 "cells": [
  {
   "cell_type": "markdown",
   "id": "5bfc216b-7649-4b1c-a2b8-05dd1735179c",
   "metadata": {},
   "source": [
    "# Regression Results and Descriptive Statistics\n",
    "\n",
    "Now that our results are created, we can create our regression results and compare the Senator sentiment scores with the random name sentiment scores."
   ]
  },
  {
   "cell_type": "markdown",
   "id": "f9341d59-162e-490d-b60c-252f01927c08",
   "metadata": {},
   "source": [
    "### Importing Packages"
   ]
  },
  {
   "cell_type": "code",
   "execution_count": null,
   "id": "0016a043-aba2-4eb1-9fc1-7606c34c4eef",
   "metadata": {
    "collapsed": true,
    "jupyter": {
     "outputs_hidden": true
    },
    "tags": []
   },
   "outputs": [
    {
     "name": "stdout",
     "output_type": "stream",
     "text": [
      "Collecting stargazer\n",
      "  Using cached stargazer-0.0.5-py3-none-any.whl (9.7 kB)\n",
      "Installing collected packages: stargazer\n",
      "Successfully installed stargazer-0.0.5\n",
      "\u001b[33mWARNING: Running pip as the 'root' user can result in broken permissions and conflicting behaviour with the system package manager. It is recommended to use a virtual environment instead: https://pip.pypa.io/warnings/venv\u001b[0m\u001b[33m\n",
      "\u001b[0m\n",
      "\u001b[1m[\u001b[0m\u001b[34;49mnotice\u001b[0m\u001b[1;39;49m]\u001b[0m\u001b[39;49m A new release of pip is available: \u001b[0m\u001b[31;49m23.0.1\u001b[0m\u001b[39;49m -> \u001b[0m\u001b[32;49m23.1\u001b[0m\n",
      "\u001b[1m[\u001b[0m\u001b[34;49mnotice\u001b[0m\u001b[1;39;49m]\u001b[0m\u001b[39;49m To update, run: \u001b[0m\u001b[32;49mpip install --upgrade pip\u001b[0m\n"
     ]
    }
   ],
   "source": [
    "import pandas as pd\n",
    "import matplotlib.pyplot as plt\n",
    "import numpy as np\n",
    "from scipy.stats import linregress\n",
    "from IPython.core.display import HTML\n",
    "import statsmodels.formula.api as smf\n",
    "!pip install stargazer\n",
    "from stargazer.stargazer import Stargazer"
   ]
  },
  {
   "cell_type": "markdown",
   "id": "663b5ef4-c77a-4c02-9b60-ad9285b99e17",
   "metadata": {},
   "source": [
    "### Importing Data and Coding New Variables\n",
    "\n",
    "First we will import the data and create a \"Non-Neutral\" score equal to 1-Neutral scores. We should also fill the \"Blank\" text entries with the word \"Blank\". Currently they are read as an NA value which will be difficult to call when we separate the dataframe based on the different text entries."
   ]
  },
  {
   "cell_type": "code",
   "execution_count": null,
   "id": "762c80c0-7ff3-4227-9a20-1f7b749dcc62",
   "metadata": {
    "tags": []
   },
   "outputs": [],
   "source": [
    "# starting with the senators data\n",
    "senators = pd.read_csv(\"senators_sentiment_fixed.csv\")\n",
    "senators[\"NonNeutral\"] = 1 - senators[\"Neutral\"]\n",
    "senators[\"Text\"]=senators[\"Text\"].fillna(\"Blank\")\n",
    "\n",
    "# repeating with the random names data\n",
    "random = pd.read_csv(\"random_names_scores.csv\")\n",
    "random[\"NonNeutral\"] = 1 - random[\"Neutral\"]\n",
    "random[\"Text\"]=random[\"Text\"].fillna(\"Blank\")"
   ]
  },
  {
   "cell_type": "markdown",
   "id": "8d74f0bc-6024-4e62-93e0-e9e63c86fa05",
   "metadata": {},
   "source": [
    "### Separating Phrases Into Different Groups\n",
    "\n",
    "We can now separate our dataframes into separate dataframes depending on whether they use positive, negative, neutral phrases, or are the blank phrases."
   ]
  },
  {
   "cell_type": "code",
   "execution_count": null,
   "id": "f9099c89-0eee-491b-a5ea-93220a3b4f6c",
   "metadata": {
    "tags": []
   },
   "outputs": [],
   "source": [
    "# Separating dataframe by each phrase for the senators data\n",
    "phrase1 = senators[senators['Text'] == senators[\"Text\"][0]]\n",
    "phrase2 = senators[senators['Text'] == senators[\"Text\"][1]]\n",
    "phrase3 = senators[senators['Text'] == senators[\"Text\"][2]]\n",
    "phrase4 = senators[senators['Text'] == senators[\"Text\"][3]]\n",
    "phrase5 = senators[senators['Text'] == senators[\"Text\"][4]]\n",
    "phrase6 = senators[senators['Text'] == senators[\"Text\"][5]]\n",
    "names_only = senators[senators['Text'] == senators[\"Text\"][6]]\n",
    "\n",
    "# Creating dataframes of the neutral, positive, and negative phrases\n",
    "neutral = pd.concat([phrase1,phrase2])\n",
    "positive = pd.concat([phrase3,phrase4])\n",
    "negative = pd.concat([phrase5,phrase6])"
   ]
  },
  {
   "cell_type": "markdown",
   "id": "fd82985c-189d-493a-b4fd-0df07bf2dfc5",
   "metadata": {},
   "source": [
    "### Defining a regression function\n",
    "We will now create a regression function which regresses each of the score categories with the Democrat and Female variables in the Senate data. We can easily change the `group` input of the function to produce a regression table for our positive, negative, and mixed phrases.\n",
    "\n",
    "The output option will allow us to decide whether to export the table as an HTML output or a LaTeX output. We will use the LaTeX output for our blog, but the HTML is easier to read within Sagemaker."
   ]
  },
  {
   "cell_type": "code",
   "execution_count": null,
   "id": "f3055dae-7aaf-4fae-8d53-749da99ad2ba",
   "metadata": {
    "tags": []
   },
   "outputs": [],
   "source": [
    "def regress_sentiments(group, output=\"HTML\"):\n",
    "    m1 = smf.ols(data=group, formula='NonNeutral ~ Democrat + female').fit(cov_type='HC3')\n",
    "    m2 = smf.ols(data=group, formula='Positive ~ Democrat + female').fit(cov_type='HC3')\n",
    "    m3 = smf.ols(data=group, formula='Mixed ~ Democrat + female').fit(cov_type='HC3')\n",
    "    m4 = smf.ols(data=group, formula='Negative ~ Democrat + female').fit(cov_type='HC3')\n",
    "    st1 = Stargazer([m1, m2,m3,m4])\n",
    "    st1.rename_covariates({\"Democrat\":\"Democratic\", \"female\":\"Female\"})\n",
    "    st1.custom_columns(['NonNeutral Scores', 'Positive Scores', 'Mixed Scores', 'Negative Scores'], [1, 1,1,1])\n",
    "    if output==\"HTML\":\n",
    "        return HTML(st1.render_html())\n",
    "    if output==\"latex\":\n",
    "        print(st1.render_latex())"
   ]
  },
  {
   "cell_type": "markdown",
   "id": "9120aa29-982f-468a-a0b6-5b1a5d8c1328",
   "metadata": {},
   "source": [
    "### Running Regression Results\n",
    "\n",
    "1. Positive Phrases"
   ]
  },
  {
   "cell_type": "code",
   "execution_count": null,
   "id": "47968789-8dda-4ef2-b73b-b65151bee67b",
   "metadata": {
    "tags": []
   },
   "outputs": [
    {
     "data": {
      "text/html": [
       "<table style=\"text-align:center\"><tr><td colspan=\"5\" style=\"border-bottom: 1px solid black\"></td></tr><tr><td style=\"text-align:left\"></td><tr><td></td><td colspan=\"1\">NonNeutral Scores</td><td colspan=\"1\">Positive Scores</td><td colspan=\"1\">Mixed Scores</td><td colspan=\"1\">Negative Scores</td></tr><tr><td style=\"text-align:left\"></td><td>(1)</td><td>(2)</td><td>(3)</td><td>(4)</td></tr><tr><td colspan=\"5\" style=\"border-bottom: 1px solid black\"></td></tr><tr><td style=\"text-align:left\">Democratic</td><td>-0.019<sup></sup></td><td>-0.016<sup></sup></td><td>-0.000<sup></sup></td><td>-0.003<sup>***</sup></td></tr><tr><td style=\"text-align:left\"></td><td>(0.064)</td><td>(0.064)</td><td>(0.001)</td><td>(0.001)</td></tr><tr><td style=\"text-align:left\">Intercept</td><td>0.565<sup>***</sup></td><td>0.555<sup>***</sup></td><td>0.004<sup>***</sup></td><td>0.006<sup>***</sup></td></tr><tr><td style=\"text-align:left\"></td><td>(0.041)</td><td>(0.041)</td><td>(0.001)</td><td>(0.001)</td></tr><tr><td style=\"text-align:left\">Female</td><td>-0.005<sup></sup></td><td>-0.004<sup></sup></td><td>-0.001<sup></sup></td><td>-0.001<sup></sup></td></tr><tr><td style=\"text-align:left\"></td><td>(0.074)</td><td>(0.074)</td><td>(0.001)</td><td>(0.001)</td></tr><td colspan=\"5\" style=\"border-bottom: 1px solid black\"></td></tr><tr><td style=\"text-align: left\">Observations</td><td>196</td><td>196</td><td>196</td><td>196</td></tr><tr><td style=\"text-align: left\">R<sup>2</sup></td><td>0.001</td><td>0.000</td><td>0.002</td><td>0.051</td></tr><tr><td style=\"text-align: left\">Adjusted R<sup>2</sup></td><td>-0.010</td><td>-0.010</td><td>-0.008</td><td>0.041</td></tr><tr><td style=\"text-align: left\">Residual Std. Error</td><td>0.422 (df=193)</td><td>0.421 (df=193)</td><td>0.007 (df=193)</td><td>0.008 (df=193)</td></tr><tr><td style=\"text-align: left\">F Statistic</td><td>0.058<sup></sup> (df=2; 193)</td><td>0.039<sup></sup> (df=2; 193)</td><td>0.307<sup></sup> (df=2; 193)</td><td>5.705<sup>***</sup> (df=2; 193)</td></tr><tr><td colspan=\"5\" style=\"border-bottom: 1px solid black\"></td></tr><tr><td style=\"text-align: left\">Note:</td>\n",
       " <td colspan=\"4\" style=\"text-align: right\">\n",
       "  <sup>*</sup>p&lt;0.1;\n",
       "  <sup>**</sup>p&lt;0.05;\n",
       "  <sup>***</sup>p&lt;0.01\n",
       " </td></tr></table>"
      ],
      "text/plain": [
       "<IPython.core.display.HTML object>"
      ]
     },
     "execution_count": 166,
     "metadata": {},
     "output_type": "execute_result"
    }
   ],
   "source": [
    "#regress_sentiments(positive, \"latex\")\n",
    "regress_sentiments(positive)"
   ]
  },
  {
   "cell_type": "markdown",
   "id": "0f553eb9-f237-48ae-b0f8-5f2f5e6391f0",
   "metadata": {},
   "source": [
    "2. Negative Phrases"
   ]
  },
  {
   "cell_type": "code",
   "execution_count": null,
   "id": "44ed6e05-a927-4e69-8e29-b1657ec20a0b",
   "metadata": {
    "tags": []
   },
   "outputs": [
    {
     "data": {
      "text/html": [
       "<table style=\"text-align:center\"><tr><td colspan=\"5\" style=\"border-bottom: 1px solid black\"></td></tr><tr><td style=\"text-align:left\"></td><tr><td></td><td colspan=\"1\">NonNeutral Scores</td><td colspan=\"1\">Positive Scores</td><td colspan=\"1\">Mixed Scores</td><td colspan=\"1\">Negative Scores</td></tr><tr><td style=\"text-align:left\"></td><td>(1)</td><td>(2)</td><td>(3)</td><td>(4)</td></tr><tr><td colspan=\"5\" style=\"border-bottom: 1px solid black\"></td></tr><tr><td style=\"text-align:left\">Democratic</td><td>-0.079<sup>***</sup></td><td>-0.000<sup></sup></td><td>0.000<sup></sup></td><td>-0.078<sup>**</sup></td></tr><tr><td style=\"text-align:left\"></td><td>(0.030)</td><td>(0.001)</td><td>(0.000)</td><td>(0.031)</td></tr><tr><td style=\"text-align:left\">Intercept</td><td>0.673<sup>***</sup></td><td>0.004<sup>***</sup></td><td>0.000<sup>***</sup></td><td>0.668<sup>***</sup></td></tr><tr><td style=\"text-align:left\"></td><td>(0.019)</td><td>(0.001)</td><td>(0.000)</td><td>(0.020)</td></tr><tr><td style=\"text-align:left\">Female</td><td>-0.032<sup></sup></td><td>-0.000<sup></sup></td><td>0.000<sup></sup></td><td>-0.031<sup></sup></td></tr><tr><td style=\"text-align:left\"></td><td>(0.034)</td><td>(0.001)</td><td>(0.000)</td><td>(0.034)</td></tr><td colspan=\"5\" style=\"border-bottom: 1px solid black\"></td></tr><tr><td style=\"text-align: left\">Observations</td><td>196</td><td>196</td><td>196</td><td>196</td></tr><tr><td style=\"text-align: left\">R<sup>2</sup></td><td>0.049</td><td>0.002</td><td>0.006</td><td>0.048</td></tr><tr><td style=\"text-align: left\">Adjusted R<sup>2</sup></td><td>0.040</td><td>-0.008</td><td>-0.005</td><td>0.038</td></tr><tr><td style=\"text-align: left\">Residual Std. Error</td><td>0.198 (df=193)</td><td>0.005 (df=193)</td><td>0.001 (df=193)</td><td>0.201 (df=193)</td></tr><tr><td style=\"text-align: left\">F Statistic</td><td>5.073<sup>***</sup> (df=2; 193)</td><td>0.218<sup></sup> (df=2; 193)</td><td>0.528<sup></sup> (df=2; 193)</td><td>4.879<sup>***</sup> (df=2; 193)</td></tr><tr><td colspan=\"5\" style=\"border-bottom: 1px solid black\"></td></tr><tr><td style=\"text-align: left\">Note:</td>\n",
       " <td colspan=\"4\" style=\"text-align: right\">\n",
       "  <sup>*</sup>p&lt;0.1;\n",
       "  <sup>**</sup>p&lt;0.05;\n",
       "  <sup>***</sup>p&lt;0.01\n",
       " </td></tr></table>"
      ],
      "text/plain": [
       "<IPython.core.display.HTML object>"
      ]
     },
     "execution_count": 167,
     "metadata": {},
     "output_type": "execute_result"
    }
   ],
   "source": [
    "#regress_sentiments(negative, \"latex\")\n",
    "regress_sentiments(negative)"
   ]
  },
  {
   "cell_type": "markdown",
   "id": "11081242-f823-4db7-bb8e-a3cdd1c21cae",
   "metadata": {},
   "source": [
    "3. Neutral Phrases"
   ]
  },
  {
   "cell_type": "code",
   "execution_count": null,
   "id": "e26aa442-d70c-44b1-ab10-150a1a25ca23",
   "metadata": {
    "tags": []
   },
   "outputs": [
    {
     "data": {
      "text/html": [
       "<table style=\"text-align:center\"><tr><td colspan=\"5\" style=\"border-bottom: 1px solid black\"></td></tr><tr><td style=\"text-align:left\"></td><tr><td></td><td colspan=\"1\">NonNeutral Scores</td><td colspan=\"1\">Positive Scores</td><td colspan=\"1\">Mixed Scores</td><td colspan=\"1\">Negative Scores</td></tr><tr><td style=\"text-align:left\"></td><td>(1)</td><td>(2)</td><td>(3)</td><td>(4)</td></tr><tr><td colspan=\"5\" style=\"border-bottom: 1px solid black\"></td></tr><tr><td style=\"text-align:left\">Democratic</td><td>-0.004<sup></sup></td><td>-0.001<sup></sup></td><td>-0.001<sup></sup></td><td>-0.002<sup></sup></td></tr><tr><td style=\"text-align:left\"></td><td>(0.008)</td><td>(0.002)</td><td>(0.001)</td><td>(0.007)</td></tr><tr><td style=\"text-align:left\">Intercept</td><td>0.048<sup>***</sup></td><td>0.015<sup>***</sup></td><td>0.003<sup>***</sup></td><td>0.030<sup>***</sup></td></tr><tr><td style=\"text-align:left\"></td><td>(0.004)</td><td>(0.001)</td><td>(0.001)</td><td>(0.004)</td></tr><tr><td style=\"text-align:left\">Female</td><td>-0.003<sup></sup></td><td>-0.003<sup>*</sup></td><td>0.002<sup></sup></td><td>-0.002<sup></sup></td></tr><tr><td style=\"text-align:left\"></td><td>(0.008)</td><td>(0.001)</td><td>(0.001)</td><td>(0.007)</td></tr><td colspan=\"5\" style=\"border-bottom: 1px solid black\"></td></tr><tr><td style=\"text-align: left\">Observations</td><td>196</td><td>196</td><td>196</td><td>196</td></tr><tr><td style=\"text-align: left\">R<sup>2</sup></td><td>0.002</td><td>0.018</td><td>0.008</td><td>0.001</td></tr><tr><td style=\"text-align: left\">Adjusted R<sup>2</sup></td><td>-0.008</td><td>0.008</td><td>-0.002</td><td>-0.009</td></tr><tr><td style=\"text-align: left\">Residual Std. Error</td><td>0.049 (df=193)</td><td>0.009 (df=193)</td><td>0.009 (df=193)</td><td>0.042 (df=193)</td></tr><tr><td style=\"text-align: left\">F Statistic</td><td>0.305<sup></sup> (df=2; 193)</td><td>3.360<sup>**</sup> (df=2; 193)</td><td>1.360<sup></sup> (df=2; 193)</td><td>0.158<sup></sup> (df=2; 193)</td></tr><tr><td colspan=\"5\" style=\"border-bottom: 1px solid black\"></td></tr><tr><td style=\"text-align: left\">Note:</td>\n",
       " <td colspan=\"4\" style=\"text-align: right\">\n",
       "  <sup>*</sup>p&lt;0.1;\n",
       "  <sup>**</sup>p&lt;0.05;\n",
       "  <sup>***</sup>p&lt;0.01\n",
       " </td></tr></table>"
      ],
      "text/plain": [
       "<IPython.core.display.HTML object>"
      ]
     },
     "execution_count": 168,
     "metadata": {},
     "output_type": "execute_result"
    }
   ],
   "source": [
    "#regress_sentiments(neutral, \"latex\")\n",
    "regress_sentiments(neutral)"
   ]
  },
  {
   "cell_type": "markdown",
   "id": "132763a0-1f62-4213-bac2-b13de0a6fee8",
   "metadata": {},
   "source": [
    "4. Names Only"
   ]
  },
  {
   "cell_type": "code",
   "execution_count": null,
   "id": "8fa784d9-b754-4a1d-9e72-125b10e1a8f9",
   "metadata": {
    "tags": []
   },
   "outputs": [
    {
     "data": {
      "text/html": [
       "<table style=\"text-align:center\"><tr><td colspan=\"5\" style=\"border-bottom: 1px solid black\"></td></tr><tr><td style=\"text-align:left\"></td><tr><td></td><td colspan=\"1\">NonNeutral Scores</td><td colspan=\"1\">Positive Scores</td><td colspan=\"1\">Mixed Scores</td><td colspan=\"1\">Negative Scores</td></tr><tr><td style=\"text-align:left\"></td><td>(1)</td><td>(2)</td><td>(3)</td><td>(4)</td></tr><tr><td colspan=\"5\" style=\"border-bottom: 1px solid black\"></td></tr><tr><td style=\"text-align:left\">Democratic</td><td>0.005<sup></sup></td><td>0.008<sup></sup></td><td>-0.000<sup></sup></td><td>-0.002<sup></sup></td></tr><tr><td style=\"text-align:left\"></td><td>(0.009)</td><td>(0.009)</td><td>(0.000)</td><td>(0.002)</td></tr><tr><td style=\"text-align:left\">Intercept</td><td>0.011<sup>***</sup></td><td>0.006<sup>**</sup></td><td>0.000<sup>***</sup></td><td>0.005<sup>**</sup></td></tr><tr><td style=\"text-align:left\"></td><td>(0.003)</td><td>(0.003)</td><td>(0.000)</td><td>(0.002)</td></tr><tr><td style=\"text-align:left\">Female</td><td>0.005<sup></sup></td><td>0.003<sup></sup></td><td>0.000<sup></sup></td><td>0.003<sup></sup></td></tr><tr><td style=\"text-align:left\"></td><td>(0.012)</td><td>(0.011)</td><td>(0.000)</td><td>(0.003)</td></tr><td colspan=\"5\" style=\"border-bottom: 1px solid black\"></td></tr><tr><td style=\"text-align: left\">Observations</td><td>98</td><td>98</td><td>98</td><td>98</td></tr><tr><td style=\"text-align: left\">R<sup>2</sup></td><td>0.009</td><td>0.012</td><td>0.030</td><td>0.015</td></tr><tr><td style=\"text-align: left\">Adjusted R<sup>2</sup></td><td>-0.012</td><td>-0.009</td><td>0.010</td><td>-0.006</td></tr><tr><td style=\"text-align: left\">Residual Std. Error</td><td>0.042 (df=95)</td><td>0.039 (df=95)</td><td>0.000 (df=95)</td><td>0.012 (df=95)</td></tr><tr><td style=\"text-align: left\">F Statistic</td><td>0.308<sup></sup> (df=2; 95)</td><td>0.489<sup></sup> (df=2; 95)</td><td>0.723<sup></sup> (df=2; 95)</td><td>2.969<sup>*</sup> (df=2; 95)</td></tr><tr><td colspan=\"5\" style=\"border-bottom: 1px solid black\"></td></tr><tr><td style=\"text-align: left\">Note:</td>\n",
       " <td colspan=\"4\" style=\"text-align: right\">\n",
       "  <sup>*</sup>p&lt;0.1;\n",
       "  <sup>**</sup>p&lt;0.05;\n",
       "  <sup>***</sup>p&lt;0.01\n",
       " </td></tr></table>"
      ],
      "text/plain": [
       "<IPython.core.display.HTML object>"
      ]
     },
     "execution_count": 169,
     "metadata": {},
     "output_type": "execute_result"
    }
   ],
   "source": [
    "#regress_sentiments(names_only, \"latex\")\n",
    "regress_sentiments(names_only)"
   ]
  },
  {
   "cell_type": "markdown",
   "id": "2814aabe-b422-45c8-9640-1917d0d5b2b0",
   "metadata": {},
   "source": [
    "### Testing Variances of Scores Between Senators and Random Names\n",
    "We should now test the variances for each category across the Democratic, Republic, and random datasets.\n",
    "\n",
    "We'll start by combining the Senator and random name datasets."
   ]
  },
  {
   "cell_type": "code",
   "execution_count": null,
   "id": "cbfdbd74-66ca-4d1f-800c-4771a728bb95",
   "metadata": {
    "tags": []
   },
   "outputs": [
    {
     "name": "stderr",
     "output_type": "stream",
     "text": [
      "/opt/conda/lib/python3.7/site-packages/ipykernel_launcher.py:3: SettingWithCopyWarning: \n",
      "A value is trying to be set on a copy of a slice from a DataFrame.\n",
      "Try using .loc[row_indexer,col_indexer] = value instead\n",
      "\n",
      "See the caveats in the documentation: https://pandas.pydata.org/pandas-docs/stable/user_guide/indexing.html#returning-a-view-versus-a-copy\n",
      "  This is separate from the ipykernel package so we can avoid doing imports until\n"
     ]
    }
   ],
   "source": [
    "filtered_senators = senators[[\"name\",\"Text\", \"group\", \"Overall\",\"Negative\",\"Positive\",\"NonNeutral\", \"Mixed\"]]\n",
    "filtered_random = random[[\"name\",\"Text\", \"Overall\",\"Negative\",\"Positive\",\"NonNeutral\", \"Mixed\"]]\n",
    "filtered_random[\"group\"] = \"Non-Partisan\"\n",
    "all_scores = pd.concat([filtered_senators, filtered_random])"
   ]
  },
  {
   "cell_type": "markdown",
   "id": "51120d58-58d8-4318-8696-656bab142555",
   "metadata": {},
   "source": [
    "We can now produce a table of variances for each group."
   ]
  },
  {
   "cell_type": "code",
   "execution_count": null,
   "id": "d9c13c86-4b8f-48a2-8d07-999e26737dff",
   "metadata": {
    "tags": []
   },
   "outputs": [
    {
     "data": {
      "text/html": [
       "<div>\n",
       "<style scoped>\n",
       "    .dataframe tbody tr th:only-of-type {\n",
       "        vertical-align: middle;\n",
       "    }\n",
       "\n",
       "    .dataframe tbody tr th {\n",
       "        vertical-align: top;\n",
       "    }\n",
       "\n",
       "    .dataframe thead th {\n",
       "        text-align: right;\n",
       "    }\n",
       "</style>\n",
       "<table border=\"1\" class=\"dataframe\">\n",
       "  <thead>\n",
       "    <tr style=\"text-align: right;\">\n",
       "      <th></th>\n",
       "      <th>Negative</th>\n",
       "      <th>Positive</th>\n",
       "      <th>NonNeutral</th>\n",
       "      <th>Mixed</th>\n",
       "    </tr>\n",
       "    <tr>\n",
       "      <th>group</th>\n",
       "      <th></th>\n",
       "      <th></th>\n",
       "      <th></th>\n",
       "      <th></th>\n",
       "    </tr>\n",
       "  </thead>\n",
       "  <tbody>\n",
       "    <tr>\n",
       "      <th>Democrat</th>\n",
       "      <td>0.078416</td>\n",
       "      <td>0.110416</td>\n",
       "      <td>0.135435</td>\n",
       "      <td>0.000028</td>\n",
       "    </tr>\n",
       "    <tr>\n",
       "      <th>Non-Partisan</th>\n",
       "      <td>0.097105</td>\n",
       "      <td>0.105279</td>\n",
       "      <td>0.136823</td>\n",
       "      <td>0.000454</td>\n",
       "    </tr>\n",
       "    <tr>\n",
       "      <th>Republican</th>\n",
       "      <td>0.097381</td>\n",
       "      <td>0.108726</td>\n",
       "      <td>0.143259</td>\n",
       "      <td>0.000052</td>\n",
       "    </tr>\n",
       "  </tbody>\n",
       "</table>\n",
       "</div>"
      ],
      "text/plain": [
       "              Negative  Positive  NonNeutral     Mixed\n",
       "group                                                 \n",
       "Democrat      0.078416  0.110416    0.135435  0.000028\n",
       "Non-Partisan  0.097105  0.105279    0.136823  0.000454\n",
       "Republican    0.097381  0.108726    0.143259  0.000052"
      ]
     },
     "execution_count": 214,
     "metadata": {},
     "output_type": "execute_result"
    }
   ],
   "source": [
    "all_scores.groupby(\"group\").var()"
   ]
  },
  {
   "cell_type": "markdown",
   "id": "96939550-c580-4a65-80a7-bb08f85e7310",
   "metadata": {},
   "source": [
    "Now we can use a Levene test to test whether the variances of the Democratic, Non-Partisan, and Republican groups are significantly different.\n",
    "\n",
    "The Levene test tests the null hypothesis that the variances are equal between each group. The alternative hypothesis is that at least one of the variances in the group is different. We will need to import `levene` from `scipy.stats` to run this test. Also, we will need to separate the senators dataframes based on party affiliation."
   ]
  },
  {
   "cell_type": "code",
   "execution_count": 219,
   "id": "09996f50-5a22-4724-8e0b-911d551d0354",
   "metadata": {
    "tags": []
   },
   "outputs": [],
   "source": [
    "# Separate Democrats from Republicans\n",
    "Dem = senators[senators['group'] == 'Democrat']\n",
    "Rep = senators[senators['group'] == 'Republican']\n",
    "\n",
    "# Importing the function for levene test\n",
    "from scipy.stats import levene"
   ]
  },
  {
   "cell_type": "markdown",
   "id": "ee79adec-883c-4b29-8cbe-6251166c4715",
   "metadata": {},
   "source": [
    "**Non-Neutral Variances Test:** Since the p-value is ~0.27, we fail to reject the null hypothesis that the variances are equal in each group."
   ]
  },
  {
   "cell_type": "code",
   "execution_count": 220,
   "id": "116b90d9-d853-49f5-85e3-c5e0c23231f5",
   "metadata": {
    "tags": []
   },
   "outputs": [
    {
     "data": {
      "text/plain": [
       "LeveneResult(statistic=1.3184126862436258, pvalue=0.2678923646859416)"
      ]
     },
     "execution_count": 220,
     "metadata": {},
     "output_type": "execute_result"
    }
   ],
   "source": [
    "levene(Dem[\"NonNeutral\"], Rep[\"NonNeutral\"], random[\"NonNeutral\"], center='mean')"
   ]
  },
  {
   "cell_type": "markdown",
   "id": "48b7793f-d57c-483c-a4d5-d21c24f2a530",
   "metadata": {},
   "source": [
    "Negative Variances Test: Since the p-value is ~.008, we can reject the null hypothesis at the 1% significance level."
   ]
  },
  {
   "cell_type": "code",
   "execution_count": null,
   "id": "f5975950-953d-451c-a059-061a3f13779b",
   "metadata": {
    "tags": []
   },
   "outputs": [
    {
     "data": {
      "text/plain": [
       "LeveneResult(statistic=4.832247148219397, pvalue=0.008102286175880418)"
      ]
     },
     "execution_count": 174,
     "metadata": {},
     "output_type": "execute_result"
    }
   ],
   "source": [
    "levene(Dem[\"Negative\"], Rep[\"Negative\"], random[\"Negative\"], center='mean')"
   ]
  },
  {
   "cell_type": "markdown",
   "id": "9e6d87c6-180a-4d6e-82a2-a377e90f13fe",
   "metadata": {},
   "source": [
    "**Positive Variances Test:** Since the p-value is ~.805, we fail to reject the null hypothesis. "
   ]
  },
  {
   "cell_type": "code",
   "execution_count": null,
   "id": "69a8ea89-3852-4842-ac10-ea05b67a4429",
   "metadata": {
    "tags": []
   },
   "outputs": [
    {
     "data": {
      "text/plain": [
       "LeveneResult(statistic=0.21666711848368647, pvalue=0.805225012863384)"
      ]
     },
     "execution_count": 176,
     "metadata": {},
     "output_type": "execute_result"
    }
   ],
   "source": [
    "levene(Dem[\"Positive\"], Rep[\"Positive\"], random[\"Positive\"], center = \"mean\")"
   ]
  },
  {
   "cell_type": "markdown",
   "id": "565c80fb-e5ee-4163-89b0-2b61226a73bf",
   "metadata": {},
   "source": [
    "Mixed Variances Test: Since p-value is <.001, we reject the null hypothesis at the 1% significance level."
   ]
  },
  {
   "cell_type": "code",
   "execution_count": null,
   "id": "c0dcfc58-10a1-42ea-abce-c95653341d42",
   "metadata": {
    "tags": []
   },
   "outputs": [
    {
     "data": {
      "text/plain": [
       "LeveneResult(statistic=81.13526052984164, pvalue=4.6136432898191235e-34)"
      ]
     },
     "execution_count": 165,
     "metadata": {},
     "output_type": "execute_result"
    }
   ],
   "source": [
    "levene(Dem[\"Mixed\"], Rep[\"Mixed\"], random[\"Mixed\"], center = \"mean\")"
   ]
  }
 ],
 "metadata": {
  "instance_type": "ml.t3.medium",
  "kernelspec": {
   "display_name": "Python 3 (Data Science)",
   "language": "python",
   "name": "python3__SAGEMAKER_INTERNAL__arn:aws:sagemaker:us-east-1:081325390199:image/datascience-1.0"
  },
  "language_info": {
   "codemirror_mode": {
    "name": "ipython",
    "version": 3
   },
   "file_extension": ".py",
   "mimetype": "text/x-python",
   "name": "python",
   "nbconvert_exporter": "python",
   "pygments_lexer": "ipython3",
   "version": "3.7.10"
  }
 },
 "nbformat": 4,
 "nbformat_minor": 5
}
