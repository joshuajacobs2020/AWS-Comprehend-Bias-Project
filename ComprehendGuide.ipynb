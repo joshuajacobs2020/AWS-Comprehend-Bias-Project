{
 "cells": [
  {
   "cell_type": "code",
   "execution_count": 206,
   "id": "fdd0a93d-3adb-4146-9d4e-d333036f7ab8",
   "metadata": {
    "tags": []
   },
   "outputs": [
    {
     "name": "stdout",
     "output_type": "stream",
     "text": [
      "2023-04-04 01:12:30 articles-api\n",
      "2023-04-04 17:00:49 comprehendproject-qtm350\n",
      "2023-03-16 14:48:52 image-api-example-joshie\n",
      "2023-03-21 14:15:20 images-josh\n",
      "2023-03-14 14:48:30 note-book-blog-jacobs\n",
      "2023-02-07 15:13:52 sagemaker-studio-872878526265-ohm2x4u4xt\n"
     ]
    }
   ],
   "source": [
    "# Command to list buckets\n",
    "! aws s3 ls"
   ]
  },
  {
   "cell_type": "code",
   "execution_count": 207,
   "id": "dfb08e80-2b3d-4b5d-a95d-2fc488820574",
   "metadata": {
    "tags": []
   },
   "outputs": [
    {
     "name": "stdout",
     "output_type": "stream",
     "text": [
      "2023-04-04 17:01:28      22812 Congress.csv\n"
     ]
    }
   ],
   "source": [
    "! aws s3 ls comprehendproject-qtm350"
   ]
  },
  {
   "cell_type": "code",
   "execution_count": 69,
   "id": "c66902a1-a25a-43be-a42d-ae4e58142231",
   "metadata": {
    "tags": []
   },
   "outputs": [],
   "source": [
    "# Importing Packages\n",
    "import boto3\n",
    "import sagemaker\n",
    "import json\n",
    "import os\n",
    "client = boto3.client('comprehend')"
   ]
  },
  {
   "cell_type": "code",
   "execution_count": 202,
   "id": "340c3255-edff-42f9-bd7f-8b75d064a480",
   "metadata": {
    "tags": []
   },
   "outputs": [],
   "source": [
    "def sentiment_test(entity, option=\"overall\"):\n",
    "    body = \"claims they want to protect children from the dangers of social media\"\n",
    "    text = f\"{entity} {body}\"\n",
    "    respond = 0\n",
    "\n",
    "    response = client.batch_detect_sentiment(\n",
    "    TextList=[text],\n",
    "    LanguageCode='en')\n",
    "    \n",
    "    if option == \"overall\":\n",
    "        respond = response['ResultList'][0]['Sentiment']\n",
    "    elif option == \"positive\":\n",
    "        respond = response['ResultList'][0]['SentimentScore']['Positive']\n",
    "    elif option == \"negative\":\n",
    "        respond = response['ResultList'][0]['SentimentScore']['Negative']\n",
    "    elif option == \"mixed\":\n",
    "        respond = response['ResultList'][0]['SentimentScore']['Mixed']\n",
    "    elif option == \"neutral\":\n",
    "        respond = response['ResultList'][0]['SentimentScore']['Neutral']\n",
    "    return respond"
   ]
  },
  {
   "cell_type": "code",
   "execution_count": 211,
   "id": "11afa0e5-ee97-4ad6-8886-fb5a65873aa7",
   "metadata": {
    "tags": []
   },
   "outputs": [
    {
     "data": {
      "text/plain": [
       "0.08307952433824539"
      ]
     },
     "execution_count": 211,
     "metadata": {},
     "output_type": "execute_result"
    }
   ],
   "source": [
    "sentiment_test(\"Joe Biden\", option=\"negative\")"
   ]
  }
 ],
 "metadata": {
  "instance_type": "ml.t3.medium",
  "kernelspec": {
   "display_name": "Python 3 (Data Science)",
   "language": "python",
   "name": "python3__SAGEMAKER_INTERNAL__arn:aws:sagemaker:us-east-1:081325390199:image/datascience-1.0"
  },
  "language_info": {
   "codemirror_mode": {
    "name": "ipython",
    "version": 3
   },
   "file_extension": ".py",
   "mimetype": "text/x-python",
   "name": "python",
   "nbconvert_exporter": "python",
   "pygments_lexer": "ipython3",
   "version": "3.7.10"
  }
 },
 "nbformat": 4,
 "nbformat_minor": 5
}
